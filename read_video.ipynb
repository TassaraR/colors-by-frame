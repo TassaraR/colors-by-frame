{
 "cells": [
  {
   "cell_type": "code",
   "execution_count": 24,
   "metadata": {},
   "outputs": [],
   "source": [
    "import cv2\n",
    "import numpy as np\n",
    "import os"
   ]
  },
  {
   "cell_type": "code",
   "execution_count": 26,
   "metadata": {},
   "outputs": [],
   "source": [
    "directory = r'C:\\Users\\rtass\\Dropbox\\CANON\\7tazas'\n",
    "file = 'startrail2.mp4'\n",
    "path = os.path.join(directory, file)"
   ]
  },
  {
   "cell_type": "code",
   "execution_count": 178,
   "metadata": {},
   "outputs": [],
   "source": [
    "cap = cv2.VideoCapture(path)\n",
    "\n",
    "imgWidth = 1920\n",
    "imgHeight = 720\n",
    "\n",
    "frames = []\n",
    "\n",
    "gotFrame, frame = cap.read()\n",
    "skip = 0\n",
    "for _ in range(30000):\n",
    "    ##while gotFrame:\n",
    "    try:\n",
    "        \n",
    "        gotFrame, frame = cap.read()\n",
    "        if skip == 10: \n",
    "            #avg_row_color = np.average(frame, axis = 0)\n",
    "            avg_row_color = np.average(frame, axis = 1)\n",
    "            #avg_frame_color = np.average(avg_row_color, axis = 0)\n",
    "            #avg_color = np.uint8(avg_frame_color)\n",
    "            avg_color = np.uint8(avg_row_color)\n",
    "            frames.append(avg_color)\n",
    "            skip = 0\n",
    "        skip+=1\n",
    "    except IndexError:\n",
    "        break\n",
    "       \n",
    "#new_img = []\n",
    "\n",
    "#frame_per_bucket = len(frames)//imgWidth\n",
    "#print(frame_per_bucket, len(frames))\n",
    "#for frames in np.split(frames, range(frame_per_bucket, len(frames), frame_per_bucket)):\n",
    "#    avg_frames = np.average(frames, axis = 0)\n",
    "#    new_img.append(avg_frames)\n",
    "\n",
    "#new_img = np.array(new_img)\n",
    "\n",
    "#n,d = new_img.shape\n",
    "#img = np.repeat(new_img, imgHeight, axis = 0)\n",
    "#img = np.reshape(img, (n, imgHeight, d))\n",
    "#cv2.imwrite('output3.png', img.transpose(1,0,2))"
   ]
  },
  {
   "cell_type": "code",
   "execution_count": 179,
   "metadata": {},
   "outputs": [],
   "source": [
    "fr_np = np.array(frames)"
   ]
  },
  {
   "cell_type": "code",
   "execution_count": 180,
   "metadata": {},
   "outputs": [
    {
     "name": "stdout",
     "output_type": "stream",
     "text": [
      "(808, 1920, 3)\n",
      "(2999, 808, 3)\n"
     ]
    }
   ],
   "source": [
    "print(frame.shape)\n",
    "print(fr_np.shape)"
   ]
  },
  {
   "cell_type": "code",
   "execution_count": 183,
   "metadata": {},
   "outputs": [
    {
     "data": {
      "text/plain": [
       "(808, 2999, 3)"
      ]
     },
     "execution_count": 183,
     "metadata": {},
     "output_type": "execute_result"
    }
   ],
   "source": [
    "cv2.resize(fr_np.transpose(1,0,2),(2999, 808)).shape"
   ]
  },
  {
   "cell_type": "code",
   "execution_count": 182,
   "metadata": {},
   "outputs": [
    {
     "data": {
      "text/plain": [
       "True"
      ]
     },
     "execution_count": 182,
     "metadata": {},
     "output_type": "execute_result"
    }
   ],
   "source": [
    "cv2.imwrite('output_test.png',fr_np.transpose(1,0,2))"
   ]
  },
  {
   "cell_type": "code",
   "execution_count": 17,
   "metadata": {},
   "outputs": [],
   "source": [
    "file_path = \n",
    "cap = cv2.VideoCapture(file_path)"
   ]
  },
  {
   "cell_type": "code",
   "execution_count": 18,
   "metadata": {},
   "outputs": [],
   "source": [
    "gotFrame, frame = cap.read()"
   ]
  },
  {
   "cell_type": "code",
   "execution_count": 19,
   "metadata": {},
   "outputs": [
    {
     "data": {
      "text/plain": [
       "46"
      ]
     },
     "execution_count": 19,
     "metadata": {},
     "output_type": "execute_result"
    }
   ],
   "source": [
    "int(cap.get(cv2.CAP_PROP_FRAME_COUNT))"
   ]
  },
  {
   "cell_type": "code",
   "execution_count": 20,
   "metadata": {},
   "outputs": [],
   "source": [
    "length = int(cap.get(cv2.CAP_PROP_FRAME_COUNT))\n",
    "width  = int(cap.get(cv2.CAP_PROP_FRAME_WIDTH))\n",
    "height = int(cap.get(cv2.CAP_PROP_FRAME_HEIGHT))\n",
    "fps    = cap.get(cv2.CAP_PROP_FPS)"
   ]
  },
  {
   "cell_type": "code",
   "execution_count": 21,
   "metadata": {},
   "outputs": [
    {
     "data": {
      "text/plain": [
       "1920"
      ]
     },
     "execution_count": 21,
     "metadata": {},
     "output_type": "execute_result"
    }
   ],
   "source": [
    "width"
   ]
  },
  {
   "cell_type": "code",
   "execution_count": 22,
   "metadata": {},
   "outputs": [
    {
     "data": {
      "text/plain": [
       "1280"
      ]
     },
     "execution_count": 22,
     "metadata": {},
     "output_type": "execute_result"
    }
   ],
   "source": [
    "height"
   ]
  },
  {
   "cell_type": "code",
   "execution_count": null,
   "metadata": {},
   "outputs": [],
   "source": []
  }
 ],
 "metadata": {
  "kernelspec": {
   "display_name": "Python 3",
   "language": "python",
   "name": "python3"
  },
  "language_info": {
   "codemirror_mode": {
    "name": "ipython",
    "version": 3
   },
   "file_extension": ".py",
   "mimetype": "text/x-python",
   "name": "python",
   "nbconvert_exporter": "python",
   "pygments_lexer": "ipython3",
   "version": "3.8.5"
  }
 },
 "nbformat": 4,
 "nbformat_minor": 2
}
